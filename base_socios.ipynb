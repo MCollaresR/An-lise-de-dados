{
 "cells": [
  {
   "cell_type": "code",
   "execution_count": 1,
   "metadata": {},
   "outputs": [
    {
     "name": "stderr",
     "output_type": "stream",
     "text": [
      "/home/elias/.local/lib/python3.8/site-packages/pandas/util/_decorators.py:311: ParserWarning: Falling back to the 'python' engine because the 'c' engine does not support regex separators (separators > 1 char and different from '\\s+' are interpreted as regex); you can avoid this warning by specifying engine='python'.\n",
      "  return func(*args, **kwargs)\n"
     ]
    }
   ],
   "source": [
    "import pandas as pd\n",
    "import re\n",
    "\n",
    "df = pd.read_csv('/home/elias/Documentos/Analise_Empresas_Ativas/analise_jucema/dados_jucema/base_socios.csv',\n",
    "                 encoding='latin-1', delimiter='##')\n",
    "df_socio = df.dropna(subset=['DATA_NASCIMENTO'])\n",
    "\n",
    "\n",
    "# TRATAMENTO SAIDA SOCIEDADE-------------------------------------------------------------------------------------------------------------------------------\n",
    "df_socio = df_socio.set_index(df_socio['DT_SAIDA_SOCIEDADE'])\n",
    "df_socio = df_socio.drop(df_socio[df_socio['DT_SAIDA_SOCIEDADE'].str.contains((r'\\b'+'|'.join('NaN') + r'\\b'))==False].index)\n",
    "df_mais_30 = pd.DataFrame(df_socio)\n",
    "\n",
    "# TRATAMENTO DATA------------------------------------------------------------------------------------------------------------------------------------------\n",
    "df_data = df_socio['DATA_NASCIMENTO']\n",
    "df_data = df_data.str.split(\"/\", n=2, expand=True)\n",
    "data = pd.DataFrame(df_data)\n",
    "data.columns = ['DIA', 'MES', 'ANO']\n",
    "data['ANO'].astype(str)\n",
    "data['ANO'] = (data['ANO'].replace('92', '1992').replace('93', '1993').replace('94', '1994').replace('95', '1995')\n",
    "               .replace('96', '1996').replace('97', '1997').replace('98', '1998').replace('99', '1999').replace('00', '2000')\n",
    "               .replace('01', '2001').replace('02', '2002').replace('03', '2003').replace('04', '2004').replace('05', '2005')\n",
    "               .replace('06', '2006').replace('07', '2007').replace('08', '2008'))\n",
    "lista_anos = ['1992', '1993', '1994', '1995', '1996', '1997', '1998', '1999','2000', '2001', '2002', '2003', '2004', '2005', '2006']    #, '2007', '20008'\n",
    "df_socio.insert(0, 'ANO_NASCIMENTO', data['ANO'])"
   ]
  },
  {
   "cell_type": "code",
   "execution_count": 2,
   "metadata": {},
   "outputs": [],
   "source": [
    "df_socio = df_socio.set_index(df_socio['ANO_NASCIMENTO'])\n",
    "df_socio = df_socio.loc[lista_anos]\n",
    "# df_socio = df_socio.drop(df_socio[df_socio['ANO_NASCIMENTO'].str.contains((r'\\b'+'|'.join(lista_anos) + r'\\b'))==True].index)"
   ]
  },
  {
   "cell_type": "code",
   "execution_count": 3,
   "metadata": {},
   "outputs": [],
   "source": [
    "# TRATAMENTO UF--------------------------------------------------------------------------------------------------------------------------------------------\n",
    "\n",
    "df_socio = df_socio.set_index(df_socio['COD_UF'])\n",
    "df_socio = df_socio.loc[\"MA\"]\n",
    "df_mais_30 = df_mais_30.set_index(df_mais_30['COD_UF'])\n",
    "df_mais_30 = df_mais_30.loc[\"MA\"]"
   ]
  },
  {
   "cell_type": "code",
   "execution_count": null,
   "metadata": {},
   "outputs": [],
   "source": [
    "# SÃO LUÍS---------------SLZ - MA/ ATIVOS--------------------------------------------\n",
    "df_socio_slz = df_socio.set_index(df_socio['NOME_MUNICIPIO'])\n",
    "df_socio_slz = df_socio_slz.loc['SÃO LUÍS']\n",
    "slz_mais_30 = df_mais_30.set_index(df_mais_30['NOME_MUNICIPIO'])\n",
    "slz_mais_30 = slz_mais_30.loc['SÃO LUÍS']\n",
    "\n",
    "# IMPERATRIZ\n",
    "df_socio_imp = df_socio.set_index(df_socio['NOME_MUNICIPIO'])\n",
    "df_socio_imp = df_socio_imp.loc['IMPERATRIZ']\n",
    "imp_mais_30 = df_mais_30.set_index(df_mais_30['NOME_MUNICIPIO'])\n",
    "imp_mais_30 = imp_mais_30.loc['IMPERATRIZ']\n",
    "\n",
    "# SÃO JOSÉ DE RIBAMAR\n",
    "df_socio_sjr = df_socio.set_index(df_socio['NOME_MUNICIPIO'])\n",
    "df_socio_sjr = df_socio_sjr.loc['SÃO JOSÉ DE RIBAMAR']\n",
    "sjr_mais_30 = df_mais_30.set_index(df_mais_30['NOME_MUNICIPIO'])\n",
    "sjr_mais_30 = sjr_mais_30.loc['SÃO JOSÉ DE RIBAMAR']\n",
    "\n",
    "# BALSAS\n",
    "df_socio_balsas = df_socio.set_index(df_socio['NOME_MUNICIPIO'])\n",
    "df_socio_balsas = df_socio_balsas.loc['BALSAS']\n",
    "balsas_mais_30 = df_mais_30.set_index(df_mais_30['NOME_MUNICIPIO'])\n",
    "balsas_mais_30 = balsas_mais_30.loc['SÃO JOSÉ DE RIBAMAR']\n",
    "\n",
    "# PAÇO DO LUMIAR\n",
    "df_socio_pl = df_socio.set_index(df_socio['NOME_MUNICIPIO'])\n",
    "df_socio_pl = df_socio_pl.loc['PAÇO DO LUMIAR']\n",
    "pl_mais_30 = df_mais_30.set_index(df_mais_30['NOME_MUNICIPIO'])\n",
    "pl_mais_30 = pl_mais_30.loc['SÃO JOSÉ DE RIBAMAR']\n",
    "\n",
    "#DF_SOCIO OUTROS\n",
    "df_socio_outros = df_socio.set_index(df_socio['NOME_MUNICIPIO']).drop('SÃO LUÍS').drop('IMPERATRIZ').drop('SÃO JOSÉ DE RIBAMAR').drop('BALSAS').drop('PAÇO DO LUMIAR')\n",
    "\n",
    "#DF_SOCIO EMPREENDEDORES -30 / +30\n",
    "df_socio = df_socio.set_index(df_socio['CARGO'])\n",
    "\n",
    "print(df_socio['DT_SAIDA_SOCIEDADE'].value_counts())"
   ]
  },
  {
   "cell_type": "code",
   "execution_count": 4,
   "metadata": {},
   "outputs": [],
   "source": [
    "# PESSOAS EMPREENDEDORAS\n",
    "\n",
    "df_socio = df_socio.set_index(df_socio['CPF'])\n",
    "df_socio['CPF']= df_socio['CPF'].drop_duplicates()\n",
    "\n",
    "df_mais_30 = df_mais_30.set_index(df_mais_30['CPF'])\n",
    "df_mais_30['CPF'] = df_mais_30['CPF'].drop_duplicates()"
   ]
  },
  {
   "cell_type": "code",
   "execution_count": 18,
   "metadata": {},
   "outputs": [
    {
     "name": "stdout",
     "output_type": "stream",
     "text": [
      "ACIMA DE 30 ANOS: \n",
      "\n",
      "EMPRESARIO               427244\n",
      "SÓCIO                    113212\n",
      "ADMINISTRADOR             87550\n",
      "TITULAR PESSOA FÍSICA     17340\n",
      "SÓCIO GERENTE              8707\n",
      "Name: CARGO, dtype: int64\n"
     ]
    }
   ],
   "source": [
    "# ANÁLISES-------------------------------------------------------------------------------------------------------------------------------------------------\n",
    "\n",
    "print('ATÉ 30 ANOS: ')\n",
    "print('')\n",
    "print(df_socio['CARGO'].value_counts().head(5))\n",
    "print('')\n",
    "print('ACIMA DE 30 ANOS: ')\n",
    "print('')\n",
    "print(df_mais_30['CARGO'].value_counts().head(5))\n",
    "\n",
    "# 93390\n",
    "# print(df_socio['CPF'].head(10))\n",
    "# print(df_socio['CPF'].count())\n",
    "# print(df_mais_30['CPF'].head(10))\n",
    "# print(df_mais_30['CPF'].count())\n",
    "\n",
    "# df_socio.to_csv('/home/elias/Documentos/Analise_Empresas_Ativas/analise_jucema/df_socio.csv')\n",
    "# df_mais_30.to_csv('/home/elias/Documentos/Analise_Empresas_Ativas/analise_jucema/df_mais_30.csv')"
   ]
  }
 ],
 "metadata": {
  "interpreter": {
   "hash": "916dbcbb3f70747c44a77c7bcd40155683ae19c65e1c03b4aa3499c5328201f1"
  },
  "kernelspec": {
   "display_name": "Python 3.8.10 64-bit",
   "language": "python",
   "name": "python3"
  },
  "language_info": {
   "codemirror_mode": {
    "name": "ipython",
    "version": 3
   },
   "file_extension": ".py",
   "mimetype": "text/x-python",
   "name": "python",
   "nbconvert_exporter": "python",
   "pygments_lexer": "ipython3",
   "version": "3.8.10"
  },
  "orig_nbformat": 4
 },
 "nbformat": 4,
 "nbformat_minor": 2
}
